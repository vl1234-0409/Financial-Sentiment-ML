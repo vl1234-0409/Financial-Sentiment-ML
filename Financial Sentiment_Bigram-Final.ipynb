{
 "cells": [
  {
   "cell_type": "markdown",
   "id": "35d8e18e",
   "metadata": {},
   "source": [
    "# Data Cleaning and Visualization"
   ]
  },
  {
   "cell_type": "markdown",
   "id": "bd0cc07b",
   "metadata": {},
   "source": [
    "Read in the data"
   ]
  },
  {
   "cell_type": "code",
   "execution_count": 112,
   "id": "2666df2c",
   "metadata": {},
   "outputs": [],
   "source": [
    "import pandas as pd\n",
    "\n",
    "column_names = ['sentiment', 'headline']\n",
    "pathname = 'financial_news_headlines.csv'\n",
    "sentiment_df = pd.read_csv(pathname, encoding='ISO-8859-1', header=None, names=column_names)"
   ]
  },
  {
   "cell_type": "code",
   "execution_count": 113,
   "id": "318e063e",
   "metadata": {},
   "outputs": [],
   "source": [
    "from sklearn.model_selection import train_test_split\n",
    "from sklearn.utils import shuffle\n",
    "\n",
    "\n",
    "corpus = sentiment_df['headline']\n",
    "labels = sentiment_df['sentiment']\n",
    "\n",
    "corpus_shuffled, labels_shuffled = shuffle(corpus, labels, random_state=1)\n",
    "corpus_train, corpus_test, labels_train, labels_test = train_test_split(corpus_shuffled, labels_shuffled, test_size=0.2, random_state=1)"
   ]
  },
  {
   "cell_type": "code",
   "execution_count": 114,
   "id": "7c511131",
   "metadata": {},
   "outputs": [
    {
     "name": "stdout",
     "output_type": "stream",
     "text": [
      "3096    Protalix closed at $ 10.71 on Friday on the Am...\n",
      "2303    The Bristol Port Company has sealed a one mill...\n",
      "4171      Another problem is cola-flavoured long drinks .\n",
      "1383    The group also plans to launch the 270 room At...\n",
      "2363    A meeting of Glisten shareholders to vote on t...\n",
      "Name: headline, dtype: object\n",
      "(3876,)\n",
      "3370    The Swedish player became majority owner of UC...\n",
      "4298    `` We have a license agreement with Nokia Corp...\n",
      "2417    Basware Einvoices Oy will be merged into the p...\n",
      "4531    Finnlines estimated in its annual general meet...\n",
      "3146    TeliaSonera s subsidiary , the mobile operator...\n",
      "Name: headline, dtype: object\n",
      "(970,)\n"
     ]
    }
   ],
   "source": [
    "print(corpus_train[:5])\n",
    "print(corpus_train.shape)\n",
    "print(corpus_test[:5])\n",
    "print(corpus_test.shape)"
   ]
  },
  {
   "cell_type": "markdown",
   "id": "9b6a949a",
   "metadata": {},
   "source": [
    "Some visualizations"
   ]
  },
  {
   "cell_type": "markdown",
   "id": "87e7cd3f",
   "metadata": {},
   "source": [
    "Text feature extraction and data splitting"
   ]
  },
  {
   "cell_type": "code",
   "execution_count": 115,
   "id": "c734dba2",
   "metadata": {},
   "outputs": [
    {
     "name": "stdout",
     "output_type": "stream",
     "text": [
      "(3876, 49802)\n",
      "(3876,)\n"
     ]
    }
   ],
   "source": [
    "#Text feature extraction (using Bag of Words approach with unigrams) for training data\n",
    "import numpy as np\n",
    "from sklearn.feature_extraction.text import TfidfVectorizer\n",
    "\n",
    "vectorizer = TfidfVectorizer(ngram_range=(1, 2))  # Use Two words as tokens\n",
    "X_train = vectorizer.fit_transform(corpus_train)\n",
    "y_train = np.array(labels_train)\n",
    "print(X_train.shape)\n",
    "print(y_train.shape)\n",
    "feature_names = vectorizer.get_feature_names_out()"
   ]
  },
  {
   "cell_type": "code",
   "execution_count": 116,
   "id": "5f15b6a7",
   "metadata": {},
   "outputs": [
    {
     "name": "stdout",
     "output_type": "stream",
     "text": [
      "(970, 49802)\n",
      "(970,)\n"
     ]
    }
   ],
   "source": [
    "#Text feature extraction (using Bag of Words approach with unigrams) for testing data\n",
    "X_test = vectorizer.transform(corpus_test)\n",
    "y_test = np.array(labels_test)\n",
    "print(X_test.shape)\n",
    "print(y_test.shape)"
   ]
  },
  {
   "cell_type": "markdown",
   "id": "d990fa0c",
   "metadata": {},
   "source": [
    "# Logistic Regression"
   ]
  },
  {
   "cell_type": "code",
   "execution_count": 103,
   "id": "384c256b",
   "metadata": {},
   "outputs": [],
   "source": [
    "#Logistic regression \n",
    "from sklearn.model_selection import GridSearchCV\n",
    "from sklearn.linear_model import LogisticRegression"
   ]
  },
  {
   "cell_type": "markdown",
   "id": "67598bc1",
   "metadata": {},
   "source": [
    "Logistic regression: Hyperparameter tuning \n",
    "\n",
    "\n",
    "Note: The code below takes a long time to run, so we have commented it out and hardcoded the best parameters after tuning in the next section."
   ]
  },
  {
   "cell_type": "code",
   "execution_count": 8,
   "id": "9112bd21",
   "metadata": {},
   "outputs": [],
   "source": [
    "#Hyperparameter tuning\n",
    "# logreg_costlist1 = {'C': [1, 10, 20, 30, 40, 50, 100]} \n",
    "# logreg = LogisticRegression(max_iter=1000, random_state=1)\n",
    "\n",
    "# cost_grid1 = GridSearchCV(logreg, logreg_costlist1, cv=5, scoring='f1_weighted')\n",
    "# cost_grid1.fit(X_train, y_train)\n",
    "# best_C1 = cost_grid1.best_params_['C']\n",
    "# print(best_C1) #50 "
   ]
  },
  {
   "cell_type": "code",
   "execution_count": 9,
   "id": "600891c9",
   "metadata": {},
   "outputs": [],
   "source": [
    "# logreg_costlist2 = {'C': [50, 60, 70, 80, 90, 100]} \n",
    "# cost_grid2 = GridSearchCV(logreg, logreg_costlist2, cv=5, scoring='f1_weighted')\n",
    "# cost_grid2.fit(X_train, y_train)\n",
    "# best_C2 = cost_grid2.best_params_['C'] \n",
    "# print(best_C2) #90"
   ]
  },
  {
   "cell_type": "markdown",
   "id": "0f1df779",
   "metadata": {},
   "source": [
    "Logistic regression: Final model, results, and coefficients"
   ]
  },
  {
   "cell_type": "code",
   "execution_count": 104,
   "id": "87fae83b",
   "metadata": {},
   "outputs": [],
   "source": [
    "best_C = 90 #20 for unigram\n",
    "logreg_final = LogisticRegression(C=best_C, max_iter=1000, random_state=1)\n",
    "logreg_final.fit(X_train, y_train)\n",
    "y_pred = logreg_final.predict(X_test)"
   ]
  },
  {
   "cell_type": "code",
   "execution_count": 105,
   "id": "c3a4437b",
   "metadata": {},
   "outputs": [
    {
     "name": "stdout",
     "output_type": "stream",
     "text": [
      "                precision    recall  f1-score   support\n",
      "\n",
      "Class Negative       0.78      0.57      0.66       121\n",
      "Class Positive       0.80      0.89      0.84       569\n",
      " Class Neutral       0.71      0.64      0.68       280\n",
      "\n",
      "      accuracy                           0.78       970\n",
      "     macro avg       0.77      0.70      0.73       970\n",
      "  weighted avg       0.77      0.78      0.77       970\n",
      "\n"
     ]
    }
   ],
   "source": [
    "from sklearn.metrics import classification_report\n",
    "\n",
    "logreg_report = classification_report(y_test, y_pred, target_names=['Class Negative', 'Class Positive', 'Class Neutral'])\n",
    "\n",
    "# Print the classification report\n",
    "print(logreg_report)"
   ]
  },
  {
   "cell_type": "code",
   "execution_count": 107,
   "id": "6d08faf7",
   "metadata": {},
   "outputs": [
    {
     "name": "stdout",
     "output_type": "stream",
     "text": [
      "[[-1.03151005 -0.00661198 -0.23602923 ... -0.05836561 -0.0291828\n",
      "  -0.0291828 ]\n",
      " [ 0.49027664  0.07880493  0.17179529 ...  0.29304051  0.14652026\n",
      "   0.14652026]\n",
      " [ 0.54123341 -0.07219295  0.06423393 ... -0.23467491 -0.11733745\n",
      "  -0.11733745]]\n",
      "['00' '00 aldata' '00 am' ... 'ðl' 'ðl including' 'ðl volume']\n",
      "\n",
      "Lowest weighted words (indicative of positive sentiment)\n",
      "was loss: -4.525012797114654\n",
      "rose: -4.320706250177454\n",
      "up: -4.199602888568563\n",
      "increased: -4.166697887639045\n",
      "rose to: -3.7354283577714122\n",
      "up from: -3.5700867933926586\n",
      "increase: -3.501075077674327\n",
      "and: -3.284067356885426\n",
      "new: -3.1550033748303425\n",
      "is: -2.6970096754288133\n",
      "business: -2.6937142526330815\n",
      "profit rose: -2.6761040960963074\n",
      "will: -2.643197016643059\n",
      "an: -2.6381016312683885\n",
      "to negative: -2.588993974442831\n",
      "eur0 01: -2.51328050148955\n",
      "period was: -2.494247344210332\n",
      "grew: -2.400821217844131\n",
      "mn up: -2.1935224604988774\n",
      "increased by: -2.19304720703623\n",
      "\n",
      "Highest weighted words (indicative of negative sentiment)\n",
      "down: 9.949186553060787\n",
      "decreased: 9.483507531320237\n",
      "fell: 8.49499832969549\n",
      "off: 5.810208129386943\n",
      "lower: 5.542165850651252\n",
      "result: 5.5188276313321785\n",
      "decreased to: 5.267851284981941\n",
      "staff: 4.802719921584133\n",
      "down from: 4.786685951662783\n",
      "declined: 4.690910505145163\n",
      "lay: 4.6738097522324\n",
      "dropped: 4.227789171807733\n",
      "to profit: 4.080460637245008\n",
      "cut: 3.754322653272699\n",
      "fell to: 3.6819810043240118\n",
      "was negative: 3.641511394739218\n",
      "reduction: 3.6329506426690186\n",
      "below: 3.5624567854318405\n",
      "profit warning: 3.5431131041957533\n",
      "warning: 3.540579244380214\n"
     ]
    }
   ],
   "source": [
    "weights = logreg_final.coef_  #get weights\n",
    "print(weights)\n",
    "sorted_weights = np.argsort(weights)  #sort weights\n",
    "feature_names = vectorizer.get_feature_names_out()  #get the features\n",
    "print(feature_names)\n",
    "\n",
    "print('\\nLowest weighted words (indicative of positive sentiment)')\n",
    "for i in range(20):\n",
    "    print(f\"{feature_names[sorted_weights[0, i]]}: {weights[0, sorted_weights[0, i]]}\")\n",
    "    \n",
    "print('\\nHighest weighted words (indicative of negative sentiment)')\n",
    "for i in range(20):\n",
    "    print(f\"{feature_names[sorted_weights[0, len(sorted_weights[0]) - i - 1]]}: {weights[0, sorted_weights[0, len(sorted_weights[0]) - i - 1]]}\")"
   ]
  },
  {
   "cell_type": "markdown",
   "id": "749d02d8",
   "metadata": {},
   "source": [
    "# SVM"
   ]
  },
  {
   "cell_type": "markdown",
   "id": "c64b17fd",
   "metadata": {},
   "source": [
    "SVM-linear kernel"
   ]
  },
  {
   "cell_type": "markdown",
   "id": "8892a3e8",
   "metadata": {},
   "source": [
    "SVM-linear kernel: Hyperparameter Tuning"
   ]
  },
  {
   "cell_type": "code",
   "execution_count": 15,
   "id": "d8975f89",
   "metadata": {},
   "outputs": [],
   "source": [
    "from sklearn.svm import SVC\n",
    "# svm_linear = SVC(kernel='linear', probability=True)  \n",
    "# svm_linear_costlist1 = {\n",
    "#     'C': [0.1, 1, 5, 10, 15, 20],\n",
    "# }\n",
    "# cost_grid1 = GridSearchCV(svm_linear, svm_linear_costlist1, cv=5, scoring='f1_weighted')\n",
    "# cost_grid1.fit(X_train, y_train)\n",
    "# best_C1 = cost_grid1.best_params_['C']\n",
    "# print(best_C1) #10"
   ]
  },
  {
   "cell_type": "markdown",
   "id": "3336514b",
   "metadata": {},
   "source": [
    "SVM-linear kernel: Final model and results"
   ]
  },
  {
   "cell_type": "code",
   "execution_count": 16,
   "id": "4ac1b199",
   "metadata": {},
   "outputs": [],
   "source": [
    "best_C = 10 #5 for unigram"
   ]
  },
  {
   "cell_type": "code",
   "execution_count": 17,
   "id": "5cf2a39e",
   "metadata": {},
   "outputs": [],
   "source": [
    "svc_linear_final = SVC(kernel='linear', probability=True, C=best_C)\n",
    "svc_linear_final.fit(X_train, y_train)\n",
    "svc_linear_pred = svc_linear_final.predict(X_test)"
   ]
  },
  {
   "cell_type": "code",
   "execution_count": 18,
   "id": "dfdd940b",
   "metadata": {},
   "outputs": [
    {
     "name": "stdout",
     "output_type": "stream",
     "text": [
      "                precision    recall  f1-score   support\n",
      "\n",
      "Class Negative       0.74      0.62      0.67       121\n",
      "Class Positive       0.80      0.86      0.83       569\n",
      " Class Neutral       0.68      0.63      0.65       280\n",
      "\n",
      "      accuracy                           0.76       970\n",
      "     macro avg       0.74      0.70      0.72       970\n",
      "  weighted avg       0.76      0.76      0.76       970\n",
      "\n"
     ]
    }
   ],
   "source": [
    "svc_linear_report = classification_report(y_test, svc_linear_pred, target_names=['Class Negative', 'Class Positive', 'Class Neutral'])\n",
    "print(svc_linear_report)"
   ]
  },
  {
   "cell_type": "markdown",
   "id": "1a7f965d",
   "metadata": {},
   "source": [
    "SVM-poly kernel"
   ]
  },
  {
   "cell_type": "markdown",
   "id": "85665cc0",
   "metadata": {},
   "source": [
    "SVM-poly kernel: Hyperparameter tuning"
   ]
  },
  {
   "cell_type": "code",
   "execution_count": 19,
   "id": "0f967883",
   "metadata": {},
   "outputs": [],
   "source": [
    "# #SVM with a polynomial kernel\n",
    "# svm_poly = SVC(kernel='poly', probability=True)  \n",
    "# svm_poly_params = {\n",
    "#     'C': [0.1, 1, 10, 20, 30],\n",
    "#     'degree': [2, 3, 4]\n",
    "# }\n",
    "# cost_grid1 = GridSearchCV(svm_poly, param_grid=svm_poly_params, cv=5, scoring='f1_weighted')\n",
    "# cost_grid1.fit(X_train, y_train)\n",
    "# best_C1 = cost_grid1.best_params_['C']\n",
    "# best_degree1 = cost_grid1.best_params_['degree']\n",
    "# print(best_C1) #10\n",
    "# print(best_degree1) #2"
   ]
  },
  {
   "cell_type": "markdown",
   "id": "6aa24fa7",
   "metadata": {},
   "source": [
    "SVM-poly kernel: Final model and results"
   ]
  },
  {
   "cell_type": "code",
   "execution_count": 20,
   "id": "39d585c6",
   "metadata": {},
   "outputs": [],
   "source": [
    "best_C = 10 #20 for unigram\n",
    "best_degree = 2 #no change compared to unigram"
   ]
  },
  {
   "cell_type": "code",
   "execution_count": 21,
   "id": "55aa241a",
   "metadata": {},
   "outputs": [],
   "source": [
    "svm_poly_final = SVC(kernel='poly', probability=True, C=best_C, degree=best_degree)\n",
    "svm_poly_final.fit(X_train, y_train)\n",
    "svc_poly_pred = svm_poly_final.predict(X_test)"
   ]
  },
  {
   "cell_type": "code",
   "execution_count": 22,
   "id": "3e9a6e05",
   "metadata": {},
   "outputs": [
    {
     "name": "stdout",
     "output_type": "stream",
     "text": [
      "                precision    recall  f1-score   support\n",
      "\n",
      "Class Negative       0.82      0.27      0.41       121\n",
      "Class Positive       0.69      0.99      0.81       569\n",
      " Class Neutral       0.85      0.33      0.48       280\n",
      "\n",
      "      accuracy                           0.71       970\n",
      "     macro avg       0.79      0.53      0.57       970\n",
      "  weighted avg       0.75      0.71      0.66       970\n",
      "\n"
     ]
    }
   ],
   "source": [
    "svc_poly_report = classification_report(y_test, svc_poly_pred, target_names=['Class Negative', 'Class Positive', 'Class Neutral'])\n",
    "\n",
    "#print classification report\n",
    "print(svc_poly_report)"
   ]
  },
  {
   "cell_type": "markdown",
   "id": "d57ef4d2",
   "metadata": {},
   "source": [
    "SVM-rbf kernel"
   ]
  },
  {
   "cell_type": "markdown",
   "id": "c71c7f68",
   "metadata": {},
   "source": [
    "SVM-rbf kernel: Hyperparameter tuning "
   ]
  },
  {
   "cell_type": "code",
   "execution_count": 23,
   "id": "1c287332",
   "metadata": {},
   "outputs": [],
   "source": [
    "#SVM with a rbf kernel\n",
    "# svm_rbf = SVC(kernel='rbf', probability=True)\n",
    "\n",
    "# svm_poly_params = {\n",
    "#     'C': [0.1, 1, 10, 20, 30],\n",
    "#     'gamma': [1, 0.1, 0.01, 0.001]\n",
    "# }\n",
    "# cost_grid1 = GridSearchCV(svm_rbf, param_grid=svm_poly_params, cv=5, scoring='f1_weighted')\n",
    "# cost_grid1.fit(X_train, y_train)\n",
    "# best_C1 = cost_grid1.best_params_['C']\n",
    "# best_gamma1 = cost_grid1.best_params_['gamma']\n",
    "# print(best_C1) #30\n",
    "# print(best_gamma1) #0.1"
   ]
  },
  {
   "cell_type": "markdown",
   "id": "334d196c",
   "metadata": {},
   "source": [
    "SVM-rbf kernel: Final model and results"
   ]
  },
  {
   "cell_type": "code",
   "execution_count": 33,
   "id": "79e949fe",
   "metadata": {},
   "outputs": [],
   "source": [
    "best_C = 30 #20 for unigram \n",
    "best_gamma = 0.1 #no change compared to unigram"
   ]
  },
  {
   "cell_type": "code",
   "execution_count": 34,
   "id": "eac49c28",
   "metadata": {},
   "outputs": [
    {
     "data": {
      "text/html": [
       "<style>#sk-container-id-2 {color: black;}#sk-container-id-2 pre{padding: 0;}#sk-container-id-2 div.sk-toggleable {background-color: white;}#sk-container-id-2 label.sk-toggleable__label {cursor: pointer;display: block;width: 100%;margin-bottom: 0;padding: 0.3em;box-sizing: border-box;text-align: center;}#sk-container-id-2 label.sk-toggleable__label-arrow:before {content: \"▸\";float: left;margin-right: 0.25em;color: #696969;}#sk-container-id-2 label.sk-toggleable__label-arrow:hover:before {color: black;}#sk-container-id-2 div.sk-estimator:hover label.sk-toggleable__label-arrow:before {color: black;}#sk-container-id-2 div.sk-toggleable__content {max-height: 0;max-width: 0;overflow: hidden;text-align: left;background-color: #f0f8ff;}#sk-container-id-2 div.sk-toggleable__content pre {margin: 0.2em;color: black;border-radius: 0.25em;background-color: #f0f8ff;}#sk-container-id-2 input.sk-toggleable__control:checked~div.sk-toggleable__content {max-height: 200px;max-width: 100%;overflow: auto;}#sk-container-id-2 input.sk-toggleable__control:checked~label.sk-toggleable__label-arrow:before {content: \"▾\";}#sk-container-id-2 div.sk-estimator input.sk-toggleable__control:checked~label.sk-toggleable__label {background-color: #d4ebff;}#sk-container-id-2 div.sk-label input.sk-toggleable__control:checked~label.sk-toggleable__label {background-color: #d4ebff;}#sk-container-id-2 input.sk-hidden--visually {border: 0;clip: rect(1px 1px 1px 1px);clip: rect(1px, 1px, 1px, 1px);height: 1px;margin: -1px;overflow: hidden;padding: 0;position: absolute;width: 1px;}#sk-container-id-2 div.sk-estimator {font-family: monospace;background-color: #f0f8ff;border: 1px dotted black;border-radius: 0.25em;box-sizing: border-box;margin-bottom: 0.5em;}#sk-container-id-2 div.sk-estimator:hover {background-color: #d4ebff;}#sk-container-id-2 div.sk-parallel-item::after {content: \"\";width: 100%;border-bottom: 1px solid gray;flex-grow: 1;}#sk-container-id-2 div.sk-label:hover label.sk-toggleable__label {background-color: #d4ebff;}#sk-container-id-2 div.sk-serial::before {content: \"\";position: absolute;border-left: 1px solid gray;box-sizing: border-box;top: 0;bottom: 0;left: 50%;z-index: 0;}#sk-container-id-2 div.sk-serial {display: flex;flex-direction: column;align-items: center;background-color: white;padding-right: 0.2em;padding-left: 0.2em;position: relative;}#sk-container-id-2 div.sk-item {position: relative;z-index: 1;}#sk-container-id-2 div.sk-parallel {display: flex;align-items: stretch;justify-content: center;background-color: white;position: relative;}#sk-container-id-2 div.sk-item::before, #sk-container-id-2 div.sk-parallel-item::before {content: \"\";position: absolute;border-left: 1px solid gray;box-sizing: border-box;top: 0;bottom: 0;left: 50%;z-index: -1;}#sk-container-id-2 div.sk-parallel-item {display: flex;flex-direction: column;z-index: 1;position: relative;background-color: white;}#sk-container-id-2 div.sk-parallel-item:first-child::after {align-self: flex-end;width: 50%;}#sk-container-id-2 div.sk-parallel-item:last-child::after {align-self: flex-start;width: 50%;}#sk-container-id-2 div.sk-parallel-item:only-child::after {width: 0;}#sk-container-id-2 div.sk-dashed-wrapped {border: 1px dashed gray;margin: 0 0.4em 0.5em 0.4em;box-sizing: border-box;padding-bottom: 0.4em;background-color: white;}#sk-container-id-2 div.sk-label label {font-family: monospace;font-weight: bold;display: inline-block;line-height: 1.2em;}#sk-container-id-2 div.sk-label-container {text-align: center;}#sk-container-id-2 div.sk-container {/* jupyter's `normalize.less` sets `[hidden] { display: none; }` but bootstrap.min.css set `[hidden] { display: none !important; }` so we also need the `!important` here to be able to override the default hidden behavior on the sphinx rendered scikit-learn.org. See: https://github.com/scikit-learn/scikit-learn/issues/21755 */display: inline-block !important;position: relative;}#sk-container-id-2 div.sk-text-repr-fallback {display: none;}</style><div id=\"sk-container-id-2\" class=\"sk-top-container\"><div class=\"sk-text-repr-fallback\"><pre>SVC(C=30, gamma=0.1, probability=True)</pre><b>In a Jupyter environment, please rerun this cell to show the HTML representation or trust the notebook. <br />On GitHub, the HTML representation is unable to render, please try loading this page with nbviewer.org.</b></div><div class=\"sk-container\" hidden><div class=\"sk-item\"><div class=\"sk-estimator sk-toggleable\"><input class=\"sk-toggleable__control sk-hidden--visually\" id=\"sk-estimator-id-2\" type=\"checkbox\" checked><label for=\"sk-estimator-id-2\" class=\"sk-toggleable__label sk-toggleable__label-arrow\">SVC</label><div class=\"sk-toggleable__content\"><pre>SVC(C=30, gamma=0.1, probability=True)</pre></div></div></div></div></div>"
      ],
      "text/plain": [
       "SVC(C=30, gamma=0.1, probability=True)"
      ]
     },
     "execution_count": 34,
     "metadata": {},
     "output_type": "execute_result"
    }
   ],
   "source": [
    "svm_rbf_final = SVC(kernel='rbf', probability=True, C=best_C, gamma=best_gamma)\n",
    "svm_rbf_final.fit(X_train, y_train)"
   ]
  },
  {
   "cell_type": "code",
   "execution_count": 35,
   "id": "261b06fa",
   "metadata": {},
   "outputs": [],
   "source": [
    "svm_rbf_pred = svm_poly_final.predict(X_test)"
   ]
  },
  {
   "cell_type": "code",
   "execution_count": 36,
   "id": "f08c44d0",
   "metadata": {},
   "outputs": [
    {
     "name": "stdout",
     "output_type": "stream",
     "text": [
      "                precision    recall  f1-score   support\n",
      "\n",
      "Class Negative       0.82      0.27      0.41       121\n",
      "Class Positive       0.69      0.99      0.81       569\n",
      " Class Neutral       0.85      0.33      0.48       280\n",
      "\n",
      "      accuracy                           0.71       970\n",
      "     macro avg       0.79      0.53      0.57       970\n",
      "  weighted avg       0.75      0.71      0.66       970\n",
      "\n"
     ]
    }
   ],
   "source": [
    "svm_rbf_report = classification_report(y_test, svm_rbf_pred, target_names=['Class Negative', 'Class Positive', 'Class Neutral'])\n",
    "\n",
    "#print classification report\n",
    "print(svm_rbf_report)"
   ]
  },
  {
   "cell_type": "markdown",
   "id": "605c71ce",
   "metadata": {},
   "source": [
    "# Neural Networks"
   ]
  },
  {
   "cell_type": "markdown",
   "id": "d9b2e98f",
   "metadata": {},
   "source": [
    "Neural networks: Hyperparameter tuning\n",
    "\n",
    "We were unable to perform hyperparameter tuning here because the code was not able to finish running in 24h. We were also unable to reduce the dimensionality using PCA because our X_train matrix is sparse. We opted to fit the model using the same hyperparameters as those optimized in the unigram appraoch."
   ]
  },
  {
   "cell_type": "code",
   "execution_count": 97,
   "id": "c4acc101",
   "metadata": {},
   "outputs": [
    {
     "name": "stdout",
     "output_type": "stream",
     "text": [
      "                precision    recall  f1-score   support\n",
      "\n",
      "Class Negative       0.79      0.55      0.64       121\n",
      "Class Positive       0.80      0.88      0.84       569\n",
      " Class Neutral       0.70      0.66      0.68       280\n",
      "\n",
      "      accuracy                           0.77       970\n",
      "     macro avg       0.76      0.69      0.72       970\n",
      "  weighted avg       0.77      0.77      0.77       970\n",
      "\n"
     ]
    },
    {
     "name": "stderr",
     "output_type": "stream",
     "text": [
      "/Users/victorialu/anaconda3/lib/python3.11/site-packages/sklearn/neural_network/_multilayer_perceptron.py:691: ConvergenceWarning: Stochastic Optimizer: Maximum iterations (200) reached and the optimization hasn't converged yet.\n",
      "  warnings.warn(\n"
     ]
    }
   ],
   "source": [
    "best_activation = 'logistic'\n",
    "best_alpha = 0.01\n",
    "best_hidden_layer_sizes = (100,) #one layer with 100 neurons\n",
    "neural_final = MLPClassifier(activation=best_activation, alpha=best_alpha, hidden_layer_sizes=best_hidden_layer_sizes)\n",
    "neural_final.fit(X_train, y_train)\n",
    "neural_pred = neural_final.predict(X_test)\n",
    "neural_report = classification_report(y_test, neural_pred, target_names=['Class Negative', 'Class Positive', 'Class Neutral'])\n",
    "\n",
    "#print classification report\n",
    "print(neural_report)"
   ]
  },
  {
   "cell_type": "markdown",
   "id": "b3708ebd",
   "metadata": {},
   "source": [
    "# Decision Tree and Random Forest "
   ]
  },
  {
   "cell_type": "code",
   "execution_count": 38,
   "id": "37b9e570",
   "metadata": {},
   "outputs": [],
   "source": [
    "from sklearn import tree  # Using sklearn Decision Tree classifier\n",
    "from sklearn import ensemble  # Using sklearn Random Forest classifier\n",
    "from sklearn.tree import DecisionTreeClassifier\n",
    "from sklearn.ensemble import RandomForestClassifier"
   ]
  },
  {
   "cell_type": "markdown",
   "id": "3c4b2dd9",
   "metadata": {},
   "source": [
    "Decision tree: Hyperparameter tuning"
   ]
  },
  {
   "cell_type": "code",
   "execution_count": 39,
   "id": "227fc7b8",
   "metadata": {},
   "outputs": [],
   "source": [
    "# Tuning max_depth for Decision Tree\n",
    "# dt_params = {'max_depth': [None, 10, 20, 30, 40, 50]}\n",
    "# dt_grid = GridSearchCV(DecisionTreeClassifier(random_state=42), dt_params, cv=5, scoring='f1_weighted')\n",
    "# dt_grid.fit(X_train, y_train)\n",
    "# print(dt_grid.best_params_) #30"
   ]
  },
  {
   "cell_type": "code",
   "execution_count": 40,
   "id": "2d1f39d6",
   "metadata": {},
   "outputs": [],
   "source": [
    "best_max_depth = 30 #no change compared to unigram"
   ]
  },
  {
   "cell_type": "markdown",
   "id": "fa49d055",
   "metadata": {},
   "source": [
    "Decision tree: Final model and results"
   ]
  },
  {
   "cell_type": "code",
   "execution_count": 117,
   "id": "6524e9db",
   "metadata": {},
   "outputs": [
    {
     "name": "stdout",
     "output_type": "stream",
     "text": [
      "                precision    recall  f1-score   support\n",
      "\n",
      "Class Negative       0.57      0.42      0.49       121\n",
      "Class Positive       0.74      0.91      0.81       569\n",
      " Class Neutral       0.70      0.45      0.55       280\n",
      "\n",
      "      accuracy                           0.71       970\n",
      "     macro avg       0.67      0.59      0.62       970\n",
      "  weighted avg       0.71      0.71      0.70       970\n",
      "\n"
     ]
    }
   ],
   "source": [
    "from sklearn.metrics import classification_report \n",
    "dt_final = DecisionTreeClassifier(max_depth=best_max_depth, random_state=42)\n",
    "dt_final.fit(X_train, y_train)\n",
    "dt_y_pred = dt_final.predict(X_test)\n",
    "dt_report = classification_report(y_test, dt_y_pred, target_names=['Class Negative', 'Class Positive', 'Class Neutral'])\n",
    "print(dt_report)"
   ]
  },
  {
   "cell_type": "markdown",
   "id": "66a64613",
   "metadata": {},
   "source": [
    "Random forest: Hyperparameter tuning"
   ]
  },
  {
   "cell_type": "code",
   "execution_count": 42,
   "id": "408f384a",
   "metadata": {},
   "outputs": [],
   "source": [
    "# rf_params =  {'max_depth': [30, 40, 50, 100, 200, 500, 1000]}\n",
    "# rf_grid = GridSearchCV(RandomForestClassifier(random_state=42), rf_params, cv=5, scoring='f1_weighted')\n",
    "# rf_grid.fit(X_train, y_train)\n",
    "# print(rf_grid.best_params_) #200 "
   ]
  },
  {
   "cell_type": "code",
   "execution_count": 43,
   "id": "0aa7ad73",
   "metadata": {},
   "outputs": [],
   "source": [
    "best_n_estimators = 200 #no change compared to unigram"
   ]
  },
  {
   "cell_type": "markdown",
   "id": "418827de",
   "metadata": {},
   "source": [
    "Random forest: Final model and results"
   ]
  },
  {
   "cell_type": "code",
   "execution_count": 44,
   "id": "82acc272",
   "metadata": {},
   "outputs": [
    {
     "name": "stdout",
     "output_type": "stream",
     "text": [
      "                precision    recall  f1-score   support\n",
      "\n",
      "Class Negative       0.84      0.36      0.50       121\n",
      "Class Positive       0.73      0.98      0.83       569\n",
      " Class Neutral       0.82      0.44      0.58       280\n",
      "\n",
      "      accuracy                           0.75       970\n",
      "     macro avg       0.80      0.59      0.64       970\n",
      "  weighted avg       0.77      0.75      0.72       970\n",
      "\n"
     ]
    }
   ],
   "source": [
    "from sklearn.metrics import classification_report \n",
    "rf_final = RandomForestClassifier(n_estimators=200, random_state=42)\n",
    "rf_final.fit(X_train, y_train)\n",
    "rf_y_pred = rf_final.predict(X_test)\n",
    "rf_report = classification_report(y_test, rf_y_pred, target_names=['Class Negative', 'Class Positive', 'Class Neutral'])\n",
    "print(rf_report)"
   ]
  },
  {
   "cell_type": "code",
   "execution_count": 45,
   "id": "c5b6eded",
   "metadata": {},
   "outputs": [
    {
     "name": "stdout",
     "output_type": "stream",
     "text": [
      "[6.21029582e-05 3.72235142e-06 2.45700362e-06 1.97314601e-05\n",
      " 1.99738592e-06 7.78912332e-06 0.00000000e+00 7.56531433e-06\n",
      " 1.23486350e-05 4.26296168e-06]\n"
     ]
    }
   ],
   "source": [
    "feature_importances = rf_final.feature_importances_\n",
    "feature_names = vectorizer.get_feature_names_out() \n",
    "print(feature_importances[:10])"
   ]
  },
  {
   "cell_type": "code",
   "execution_count": 47,
   "id": "11dbeeff",
   "metadata": {},
   "outputs": [
    {
     "data": {
      "image/png": "[encoded data removed]",
      "text/plain": [
       "<Figure size 800x600 with 1 Axes>"
      ]
     },
     "metadata": {},
     "output_type": "display_data"
    }
   ],
   "source": [
    "import matplotlib.pyplot as plt\n",
    "\n",
    "top_feature_indices = np.argsort(feature_importances)[-20:]\n",
    "top_feature = feature_importances[top_feature_indices]\n",
    "\n",
    "plt.figure(figsize=(8, 6))\n",
    "plt.barh(range(len(top_feature_indices)), top_feature, align='center')\n",
    "plt.yticks(np.arange(len(top_feature_indices)), np.array(feature_names)[top_feature_indices])\n",
    "plt.xlabel('Feature Importance')\n",
    "plt.title('Top 20 Most Important Features')\n",
    "plt.show()"
   ]
  },
  {
   "cell_type": "markdown",
   "id": "c673edf8",
   "metadata": {},
   "source": [
    "# kNN"
   ]
  },
  {
   "cell_type": "code",
   "execution_count": 48,
   "id": "fd72ee4c",
   "metadata": {},
   "outputs": [],
   "source": [
    "#kNN\n",
    "from sklearn.neighbors import KNeighborsClassifier\n",
    "from sklearn.model_selection import GridSearchCV\n",
    "from sklearn.datasets import load_iris\n",
    "from sklearn.model_selection import train_test_split"
   ]
  },
  {
   "cell_type": "markdown",
   "id": "a264d39e",
   "metadata": {},
   "source": [
    "kNN: Hyperparameter tuning"
   ]
  },
  {
   "cell_type": "code",
   "execution_count": 50,
   "id": "6e86f448",
   "metadata": {},
   "outputs": [],
   "source": [
    "# Initialize KNN Classifier\n",
    "# knn = KNeighborsClassifier()\n",
    "\n",
    "# # Define the parameter grid\n",
    "# knn_params = {\n",
    "#     'n_neighbors': [3, 5, 7, 9, 11, 13, 15],\n",
    "# }\n",
    "\n",
    "# # Create a GridSearchCV object\n",
    "# grid_search = GridSearchCV(knn, knn_params, cv=5, n_jobs=-1, verbose=1) #9"
   ]
  },
  {
   "cell_type": "code",
   "execution_count": 51,
   "id": "cc72aeeb",
   "metadata": {},
   "outputs": [],
   "source": [
    "best_n_neighbors = 9"
   ]
  },
  {
   "cell_type": "markdown",
   "id": "46d19736",
   "metadata": {},
   "source": [
    "kNN: Final model and results"
   ]
  },
  {
   "cell_type": "code",
   "execution_count": 52,
   "id": "06cbaa8b",
   "metadata": {},
   "outputs": [
    {
     "name": "stdout",
     "output_type": "stream",
     "text": [
      "                precision    recall  f1-score   support\n",
      "\n",
      "Class Negative       0.48      0.44      0.46       121\n",
      "Class Positive       0.75      0.85      0.79       569\n",
      " Class Neutral       0.59      0.44      0.51       280\n",
      "\n",
      "      accuracy                           0.68       970\n",
      "     macro avg       0.61      0.58      0.59       970\n",
      "  weighted avg       0.67      0.68      0.67       970\n",
      "\n"
     ]
    }
   ],
   "source": [
    "# Fit the model\n",
    "knn_model = KNeighborsClassifier(n_neighbors=best_n_neighbors)\n",
    "knn_model.fit(X_train, y_train)\n",
    "y_pred = knn_model.predict(X_test)\n",
    "\n",
    "# Test the model\n",
    "kNN_report = classification_report(y_test, y_pred, target_names=['Class Negative', 'Class Positive', 'Class Neutral'])\n",
    "print(kNN_report)"
   ]
  },
  {
   "cell_type": "markdown",
   "id": "86dd3c4b",
   "metadata": {},
   "source": [
    "# Perceptron"
   ]
  },
  {
   "cell_type": "code",
   "execution_count": 108,
   "id": "8b361622",
   "metadata": {},
   "outputs": [],
   "source": [
    "from sklearn.model_selection import GridSearchCV\n",
    "from sklearn.linear_model import Perceptron"
   ]
  },
  {
   "cell_type": "code",
   "execution_count": 109,
   "id": "99d61e8c",
   "metadata": {},
   "outputs": [
    {
     "name": "stdout",
     "output_type": "stream",
     "text": [
      "                precision    recall  f1-score   support\n",
      "\n",
      "Class Negative       0.73      0.62      0.67       121\n",
      "Class Positive       0.81      0.84      0.83       569\n",
      " Class Neutral       0.68      0.67      0.68       280\n",
      "\n",
      "      accuracy                           0.76       970\n",
      "     macro avg       0.74      0.71      0.72       970\n",
      "  weighted avg       0.76      0.76      0.76       970\n",
      "\n"
     ]
    }
   ],
   "source": [
    "perceptron_model = Perceptron(random_state=1)\n",
    "perceptron_model.fit(X_train, y_train)\n",
    "y_pred = perceptron_model.predict(X_test)\n",
    "\n",
    "# Test the model\n",
    "perceptron_report = classification_report(y_test, y_pred, target_names=['Class Negative', 'Class Positive', 'Class Neutral'])\n",
    "print(perceptron_report)"
   ]
  },
  {
   "cell_type": "code",
   "execution_count": 111,
   "id": "647c4256",
   "metadata": {},
   "outputs": [
    {
     "name": "stdout",
     "output_type": "stream",
     "text": [
      "Top Positive Weights (indicative of negative sentiment):\n",
      "down: 2.2344543312979077\n",
      "decreased: 2.1245584819715306\n",
      "fell: 1.790737057473698\n",
      "mn in: 1.3298333901437867\n",
      "lower: 1.3220589031379586\n",
      "decreased to: 1.2571484334492873\n",
      "down from: 1.2465780109720805\n",
      "off: 1.13976057002856\n",
      "to profit: 1.0869564075155482\n",
      "was negative: 1.0372903860571603\n",
      "eur0 05: 1.0300697911790073\n",
      "result: 1.0234421391997603\n",
      "cut: 1.0035429829532154\n",
      "staff: 0.959048103709246\n",
      "below: 0.9371401421038408\n",
      "because of: 0.9344935121061244\n",
      "lay: 0.9284739242461951\n",
      "profit fell: 0.8803529341381022\n",
      "36 points: 0.8727780029637465\n",
      "rose 36: 0.8727780029637465\n",
      "\n",
      "Top Negative Weights (indicative of positive sentiment):\n",
      "rose: -1.294477709400527\n",
      "rose to: -1.21681662129432\n",
      "28 points: -1.0920576189343176\n",
      "rose 28: -1.0920576189343176\n",
      "increased: -1.0782046992981065\n",
      "up from: -1.0555676743073175\n",
      "was loss: -1.0377121900828046\n",
      "up: -1.0084523913101004\n",
      "period was: -0.9376054167130201\n",
      "increase: -0.8236608894000695\n",
      "profit rose: -0.8096862741048911\n",
      "to negative: -0.7733953413840993\n",
      "program: -0.7618812322771833\n",
      "expects: -0.7525369885168669\n",
      "nordea: -0.7231014214432812\n",
      "to loss: -0.6827456174491195\n",
      "improved: -0.6806055580143467\n",
      "the loss: -0.6637603440335667\n",
      "percent: -0.6546000569133472\n",
      "it: -0.6541557297911257\n"
     ]
    }
   ],
   "source": [
    "weights = perceptron_model.coef_[0]\n",
    "feature_names = vectorizer.get_feature_names_out() \n",
    "\n",
    "positive_weights = [(feature, weight) for feature, weight in zip(feature_names, weights) if weight > 0]\n",
    "negative_weights = [(feature, weight) for feature, weight in zip(feature_names, weights) if weight < 0]\n",
    "sorted_positive_weights = sorted(positive_weights, key=lambda x: x[1], reverse=True)\n",
    "sorted_negative_weights = sorted(negative_weights, key=lambda x: x[1])\n",
    "\n",
    "print(\"Top Positive Weights (indicative of negative sentiment):\")\n",
    "for feature, weight in sorted_positive_weights[:20]:\n",
    "    print(f\"{feature}: {weight}\")\n",
    "\n",
    "# Print the top negative weights\n",
    "print(\"\\nTop Negative Weights (indicative of positive sentiment):\")\n",
    "for feature, weight in sorted_negative_weights[:20]:\n",
    "    print(f\"{feature}: {weight}\")"
   ]
  },
  {
   "cell_type": "markdown",
   "id": "7bfeaefa",
   "metadata": {},
   "source": [
    "# Clustering"
   ]
  },
  {
   "cell_type": "code",
   "execution_count": 63,
   "id": "df5f5971",
   "metadata": {},
   "outputs": [
    {
     "name": "stderr",
     "output_type": "stream",
     "text": [
      "/Users/victorialu/anaconda3/lib/python3.11/site-packages/sklearn/cluster/_kmeans.py:1416: FutureWarning: The default value of `n_init` will change from 10 to 'auto' in 1.4. Set the value of `n_init` explicitly to suppress the warning\n",
      "  super()._check_params_vs_input(X, default_n_init=10)\n"
     ]
    }
   ],
   "source": [
    "from sklearn.cluster import KMeans\n",
    "\n",
    "costs = []\n",
    "k_values = [1,2,3,4,5,6,7,8,9,10]\n",
    "for k in k_values:\n",
    "    clustering = KMeans(n_clusters=k)\n",
    "    \n",
    "    # Fit the model and calculate the cost\n",
    "    clustering.fit(X_train)\n",
    "    costs.append(clustering.inertia_)"
   ]
  },
  {
   "cell_type": "code",
   "execution_count": 64,
   "id": "eae94095",
   "metadata": {},
   "outputs": [
    {
     "data": {
      "image/png": "[encoded data removed]",
      "text/plain": [
       "<Figure size 640x480 with 1 Axes>"
      ]
     },
     "metadata": {},
     "output_type": "display_data"
    }
   ],
   "source": [
    "plt.plot(k_values, costs)\n",
    "plt.title('Elbow Plot for KMeans Clustering')\n",
    "plt.xlabel('Number of Clusters (k)')\n",
    "plt.ylabel('Cost (Inertia)')\n",
    "plt.show() #about 3 or 4"
   ]
  },
  {
   "cell_type": "code",
   "execution_count": 67,
   "id": "923408b0",
   "metadata": {},
   "outputs": [
    {
     "name": "stderr",
     "output_type": "stream",
     "text": [
      "/Users/victorialu/anaconda3/lib/python3.11/site-packages/sklearn/cluster/_kmeans.py:1416: FutureWarning: The default value of `n_init` will change from 10 to 'auto' in 1.4. Set the value of `n_init` explicitly to suppress the warning\n",
      "  super()._check_params_vs_input(X, default_n_init=10)\n"
     ]
    },
    {
     "name": "stdout",
     "output_type": "stream",
     "text": [
      "[1 1 1 1 1 1 1 1 0 1]\n"
     ]
    }
   ],
   "source": [
    "from sklearn.cluster import KMeans\n",
    "\n",
    "kmeans = KMeans(n_clusters=3, random_state=1)\n",
    "kmeans_assignment = kmeans.fit_predict(X_train)\n",
    "print(kmeans_assignment[:10])"
   ]
  },
  {
   "cell_type": "code",
   "execution_count": 68,
   "id": "8f6dd4cf",
   "metadata": {},
   "outputs": [
    {
     "name": "stdout",
     "output_type": "stream",
     "text": [
      "0.6148090815273478\n"
     ]
    }
   ],
   "source": [
    "from sklearn.preprocessing import LabelEncoder\n",
    "from sklearn.metrics import accuracy_score\n",
    "\n",
    "label_encoder = LabelEncoder()\n",
    "actual_labels_numeric = label_encoder.fit_transform(y_train)\n",
    "\n",
    "# Calculate accuracy\n",
    "accuracy = accuracy_score(kmeans_assignment, actual_labels_numeric)\n",
    "print(accuracy) #0.13906088751289988 pretty poor"
   ]
  }
 ],
 "metadata": {
  "kernelspec": {
   "display_name": "Python 3 (ipykernel)",
   "language": "python",
   "name": "python3"
  },
  "language_info": {
   "codemirror_mode": {
    "name": "ipython",
    "version": 3
   },
   "file_extension": ".py",
   "mimetype": "text/x-python",
   "name": "python",
   "nbconvert_exporter": "python",
   "pygments_lexer": "ipython3",
   "version": "3.11.4"
  }
 },
 "nbformat": 4,
 "nbformat_minor": 5
}
